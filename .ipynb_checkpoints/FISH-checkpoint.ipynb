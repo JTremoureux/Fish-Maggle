{
 "cells": [
  {
   "cell_type": "markdown",
   "metadata": {
    "collapsed": true
   },
   "source": [
    "A simple exploration notebook to get some insights about the data.\n",
    "\n",
    "**Please check the output tab for animation**\n",
    "\n",
    "**Objective:**\n",
    "\n",
    "In this competition, The Nature Conservancy asks you to help them detect which species of fish appears on a fishing boat, based on images captured from boat cameras of various angles.  \n",
    "\n",
    "Your goal is to predict the likelihood of fish species in each picture.\n",
    "\n",
    "As mentioned in the data page, there are eight target categories available in the dataset.\n",
    "\n",
    " 1. Albacore tuna\n",
    " 2. Bigeye tuna\n",
    " 3. Yellowfin tuna\n",
    " 4. Mahi Mahi\n",
    " 5. Opah\n",
    " 6. Sharks\n",
    " 7. Other (meaning that there are fish present but not in the above categories)\n",
    " 8. No Fish (meaning that no fish is in the picture)\n",
    "\n",
    "**Important points to note:**\n",
    "\n",
    " 1. Pre-trained models and external data are allowed in the competition, but need to be posted on this [official forum thread][1]\n",
    " 2. The competition comprises of two stages. Test data for second stage will be released in the last week.   \n",
    "\n",
    "First let us see the number of image files present for each of the species\n",
    "\n",
    "\n",
    "  [1]: https://www.kaggle.com/c/the-nature-conservancy-fisheries-monitoring/forums/t/25428/official-pre-trained-model-and-data-thread/144487#post144487"
   ]
  },
  {
   "cell_type": "code",
   "execution_count": 7,
   "metadata": {
    "collapsed": false
   },
   "outputs": [
    {
     "name": "stdout",
     "output_type": "stream",
     "text": [
      "ok\n"
     ]
    }
   ],
   "source": [
    "# This Python 3 environment comes with many helpful analytics libraries installed\n",
    "# It is defined by the kaggle/python docker image: https://github.com/kaggle/docker-python\n",
    "# For example, here's several helpful packages to load in \n",
    "\n",
    "import numpy as np # linear algebra\n",
    "import pandas as pd # data processing, CSV file I/O (e.g. pd.read_csv)\n",
    "from scipy.misc import imread\n",
    "import matplotlib.pyplot as plt\n",
    "import seaborn as sns\n",
    "from __future__ import print_function\n",
    "import matplotlib.pyplot as plt\n",
    "import numpy as np\n",
    "import os\n",
    "import sys\n",
    "import tarfile\n",
    "from IPython.display import display, Image\n",
    "from scipy import ndimage\n",
    "from sklearn.linear_model import LogisticRegression\n",
    "from six.moves.urllib.request import urlretrieve\n",
    "from six.moves import cPickle as pickle\n",
    "import PIL\n",
    "from subprocess import check_output\n",
    "%matplotlib inline\n",
    "print('ok')\n",
    "\n",
    "\n"
   ]
  },
  {
   "cell_type": "code",
   "execution_count": 8,
   "metadata": {
    "collapsed": false
   },
   "outputs": [
    {
     "name": "stdout",
     "output_type": "stream",
     "text": [
      "ALB\n",
      "BET\n",
      "DOL\n",
      "LAG\n",
      "NoF\n",
      "OTHER\n",
      "SHARK\n",
      "YFT\n",
      "\n"
     ]
    }
   ],
   "source": [
    "os.chdir('/Users/HUGO/Documents/Kaggle/FISH/train/')\n",
    "print(check_output([\"ls\", \"../train/\"]).decode(\"utf8\"))"
   ]
  },
  {
   "cell_type": "code",
   "execution_count": 11,
   "metadata": {
    "collapsed": false
   },
   "outputs": [
    {
     "name": "stdout",
     "output_type": "stream",
     "text": [
      "Number of files for the species ALB : 1719\n",
      "Number of files for the species BET : 200\n",
      "Number of files for the species DOL : 117\n",
      "Number of files for the species LAG : 67\n",
      "Number of files for the species NoF : 465\n",
      "Number of files for the species OTHER : 299\n",
      "Number of files for the species SHARK : 176\n",
      "Number of files for the species YFT : 734\n"
     ]
    },
    {
     "data": {
      "image/png": "[encoded data removed]",
      "text/plain": [
       "<matplotlib.figure.Figure at 0x103eb8ad0>"
      ]
     },
     "metadata": {},
     "output_type": "display_data"
    }
   ],
   "source": [
    "sub_folders = check_output([\"ls\", \"../train/\"]).decode(\"utf8\").strip().split('\\n')\n",
    "count_dict = {}\n",
    "for sub_folder in sub_folders:\n",
    "    num_of_files = len(check_output([\"ls\", \"../train/\"+sub_folder]).decode(\"utf8\").strip().split('\\n'))\n",
    "    print(\"Number of files for the species\",sub_folder,\":\",num_of_files)\n",
    "    count_dict[sub_folder] = num_of_files\n",
    "    \n",
    "plt.figure(figsize=(12,4))\n",
    "sns.barplot(list(count_dict.keys()), list(count_dict.values()), alpha=0.8)\n",
    "plt.xlabel('Fish Species', fontsize=12)\n",
    "plt.ylabel('Number of Images', fontsize=12)\n",
    "plt.show()\n",
    "    \n",
    "    "
   ]
  },
  {
   "cell_type": "markdown",
   "metadata": {},
   "source": [
    "## JE MAPPELLE JORDAN TREMOUREUX =D"
   ]
  },
  {
   "cell_type": "code",
   "execution_count": 33,
   "metadata": {
    "collapsed": false
   },
   "outputs": [
    {
     "data": {
      "image/png": "[encoded data removed]",
      "text/plain": [
       "<matplotlib.figure.Figure at 0x11794f4d0>"
      ]
     },
     "metadata": {},
     "output_type": "display_data"
    }
   ],
   "source": [
    "train_path = \"../train/\"\n",
    "sub_folders = check_output([\"ls\", train_path]).decode(\"utf8\").strip().split('\\n')\n",
    "different_file_sizes = {}\n",
    "for sub_folder in sub_folders:\n",
    "    file_names = check_output([\"ls\", train_path+sub_folder]).decode(\"utf8\").strip().split('\\n')\n",
    "    for file_name in file_names:\n",
    "        im_array = imread(train_path+sub_folder+\"/\"+file_name)\n",
    "        size = \"_\".join(map(str,list(im_array.shape)))\n",
    "        different_file_sizes[size] = different_file_sizes.get(size,0) + 1\n",
    "\n",
    "plt.figure(figsize=(12,4))\n",
    "sns.barplot(list(different_file_sizes.keys()), list(different_file_sizes.values()), alpha=0.8)\n",
    "plt.xlabel('Image size', fontsize=12)\n",
    "plt.ylabel('Number of Images', fontsize=12)\n",
    "plt.title(\"Image size present in train dataset\")\n",
    "plt.xticks(rotation='vertical')\n",
    "plt.show()"
   ]
  },
  {
   "cell_type": "code",
   "execution_count": 18,
   "metadata": {
    "collapsed": false
   },
   "outputs": [
    {
     "data": {
      "text/plain": [
       "u'YFT'"
      ]
     },
     "execution_count": 18,
     "metadata": {},
     "output_type": "execute_result"
    }
   ],
   "source": [
    "os.chdir('/Users/HUGO/Documents/Kaggle/FISH/train/LAG/')\n",
    "display(Image(filename=\"img_00176.jpg\"))"
   ]
  },
  {
   "cell_type": "code",
   "execution_count": 20,
   "metadata": {
    "collapsed": true
   },
   "outputs": [],
   "source": [
    "pixel_depth=255.00\n",
    "image_size_height = 1280  # Pixel height.\n",
    "image_size_width = 720  # Pixel width \n",
    "\n",
    "image_file=\"img_00784.jpg\"\n",
    "image_data = (ndimage.imread(image_file).astype(float) - pixel_depth / 2) / pixel_depth"
   ]
  },
  {
   "cell_type": "code",
   "execution_count": 21,
   "metadata": {
    "collapsed": false
   },
   "outputs": [
    {
     "data": {
      "text/plain": [
       "[u'ALB', u'BET', u'DOL', u'LAG', u'NoF', u'OTHER', u'SHARK', u'YFT']"
      ]
     },
     "execution_count": 21,
     "metadata": {},
     "output_type": "execute_result"
    }
   ],
   "source": [
    "plt.figure()\n",
    "plt.imshow(image_data)  # display it\n",
    "plt.colorbar()"
   ]
  },
  {
   "cell_type": "code",
   "execution_count": null,
   "metadata": {
    "collapsed": true
   },
   "outputs": [],
   "source": []
  }
 ],
 "metadata": {
  "anaconda-cloud": {},
  "kernelspec": {
   "display_name": "Python [conda root]",
   "language": "python",
   "name": "conda-root-py"
  },
  "language_info": {
   "codemirror_mode": {
    "name": "ipython",
    "version": 3
   },
   "file_extension": ".py",
   "mimetype": "text/x-python",
   "name": "python",
   "nbconvert_exporter": "python",
   "pygments_lexer": "ipython3",
   "version": "3.5.2"
  }
 },
 "nbformat": 4,
 "nbformat_minor": 0
}
